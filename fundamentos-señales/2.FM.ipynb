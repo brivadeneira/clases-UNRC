{
 "cells": [
  {
   "cell_type": "markdown",
   "metadata": {},
   "source": [
    "# Modulación en frecuencia\n",
    "\n",
    "**Cómo usar**:\n",
    "\n",
    "* En el menú superior, click en `Cell`.\n",
    "* Click en `Run All`.\n",
    "* Al final de este documento se reproducirá la simulación.\n",
    "* Disfrutar."
   ]
  },
  {
   "cell_type": "code",
   "execution_count": 1,
   "metadata": {},
   "outputs": [],
   "source": [
    "import numpy as np\n",
    "import matplotlib.pyplot as plt\n",
    "import ipywidgets as widgets\n",
    "from matplotlib.widgets import Slider\n",
    "from ipywidgets import interact, interactive, fixed, interact_manual"
   ]
  },
  {
   "cell_type": "code",
   "execution_count": 2,
   "metadata": {},
   "outputs": [
    {
     "data": {
      "application/vnd.jupyter.widget-view+json": {
       "model_id": "46f42ff74bca46519a6ed49443583704",
       "version_major": 2,
       "version_minor": 0
      },
      "text/plain": [
       "interactive(children=(IntSlider(value=1, description='phi [rad]', max=10, min=1), IntSlider(value=20, descript…"
      ]
     },
     "metadata": {},
     "output_type": "display_data"
    }
   ],
   "source": [
    "def plot_FM(wphi, wfc, wfm):\n",
    "    \n",
    "    modulator_frequency = wfm\n",
    "    carrier_frequency = wfc\n",
    "    modulation_index = 1\n",
    "    \n",
    "    phi = wphi\n",
    "\n",
    "    time = np.arange(44100.0) / 44100.0\n",
    "    modulator = np.sin(2.0 * np.pi * modulator_frequency * time + phi) * modulation_index\n",
    "    carrier = np.sin(2.0 * np.pi * carrier_frequency * time)\n",
    "    product = np.zeros_like(modulator)\n",
    "\n",
    "    for i, t in enumerate(time):\n",
    "        product[i] = np.sin(2. * np.pi * (carrier_frequency * t + modulator[i]))\n",
    "    \n",
    "    plt.figure(1, dpi=120)\n",
    "    plt.subplot(3, 1, 1)\n",
    "    plt.title('FM')\n",
    "    plt.plot(modulator)\n",
    "    plt.grid(True)\n",
    "    \n",
    "    plt.subplot(3, 1, 2)\n",
    "    plt.plot(carrier)\n",
    "    plt.ylabel('Amplitud en Volt [A]', fontsize=12)\n",
    "    plt.grid(True)\n",
    "    \n",
    "    plt.subplot(3, 1, 3)\n",
    "    plt.plot(product)\n",
    "    plt.xlabel('Tiempo en segundos [s]', fontsize=12)\n",
    "    plt.grid(True)\n",
    "    plt.show()\n",
    "    \n",
    "wfm =  widgets.IntSlider(min=2, max=4,step=1,value=2, description='fm [Hz]')\n",
    "wfc =  widgets.IntSlider(min=20, max=40,step=10,value=20, description='fc [Hz]')\n",
    "wphi = widgets.IntSlider(min=1, max=10,step=1,value=1, description='phi [rad]')\n",
    "\n",
    "interactive_plot = interactive(plot_FM, wphi=wphi, wfc=wfc, wfm=wfm)\n",
    "output = interactive_plot.children[-1]\n",
    "output.layout.height = '800px'\n",
    "interactive_plot"
   ]
  }
 ],
 "metadata": {
  "kernelspec": {
   "display_name": "Python 3",
   "language": "python",
   "name": "python3"
  },
  "language_info": {
   "codemirror_mode": {
    "name": "ipython",
    "version": 3
   },
   "file_extension": ".py",
   "mimetype": "text/x-python",
   "name": "python",
   "nbconvert_exporter": "python",
   "pygments_lexer": "ipython3",
   "version": "3.6.8"
  }
 },
 "nbformat": 4,
 "nbformat_minor": 2
}

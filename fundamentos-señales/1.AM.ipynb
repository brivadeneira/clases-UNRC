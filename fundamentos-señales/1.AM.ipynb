{
 "cells": [
  {
   "cell_type": "markdown",
   "metadata": {},
   "source": [
    "# Modulación en Amplitud\n",
    "\n",
    "**Cómo usar**:\n",
    "\n",
    "* En el menú superior, click en `Cell`.\n",
    "* Click en `Run All`.\n",
    "* Al final de este documento se reproducirá la simulación.\n",
    "* Disfrutar."
   ]
  },
  {
   "cell_type": "code",
   "execution_count": 1,
   "metadata": {},
   "outputs": [],
   "source": [
    "import numpy as np\n",
    "import matplotlib.pyplot as plt\n",
    "import ipywidgets as widgets\n",
    "from matplotlib.widgets import Slider\n",
    "from ipywidgets import interact, interactive, fixed, interact_manual"
   ]
  },
  {
   "cell_type": "code",
   "execution_count": 2,
   "metadata": {},
   "outputs": [
    {
     "data": {
      "application/vnd.jupyter.widget-view+json": {
       "model_id": "4c55b5461a5f4aaab895b941bfbac81d",
       "version_major": 2,
       "version_minor": 0
      },
      "text/plain": [
       "interactive(children=(IntSlider(value=3, description='Ec [V]', max=5, min=1), IntSlider(value=8, description='…"
      ]
     },
     "metadata": {},
     "output_type": "display_data"
    }
   ],
   "source": [
    "def plot_AM(wEc, wfc):\n",
    "    \n",
    "    Em = 2\n",
    "    fm = 1\n",
    "    \n",
    "    Ec = wEc\n",
    "    fc = wfc\n",
    "    \n",
    "    T = 1/max(fc, fm)\n",
    "    t = np.arange(0, 3, T/20)   # start,stop,step\n",
    "    xm = Em * np.cos(2 * np.pi * fm * t)\n",
    "    xc = Ec * np.cos(2 * np.pi * fc * t)\n",
    "    xAM = xm * xc\n",
    "    m = Em/Ec\n",
    "    \n",
    "    ## Tiempo ##\n",
    "    \n",
    "    plt.figure(1, dpi=130)\n",
    "    plt.subplot(321)\n",
    "    plt.plot(t, xm)\n",
    "    plt.legend(['Modulante'], loc='best')\n",
    "    plt.grid(True)\n",
    "    \n",
    "    plt.subplot(323)\n",
    "    plt.plot(t, xc, 'g')\n",
    "    plt.legend(['Portadora'], loc='best')\n",
    "    plt.ylabel('Amplitud en Volt [A]', fontsize=12)\n",
    "    plt.xlim([0, 3])\n",
    "    plt.ylim([-5.5, 5.5])\n",
    "    plt.grid(True)\n",
    "        \n",
    "    plt.subplot(325)\n",
    "    plt.plot(t, xAM, 'r')\n",
    "    plt.legend(['Modulada'], loc=5)\n",
    "    plt.xlabel('Tiempo en segundos [s]', fontsize=12)\n",
    "    plt.xlim([0, 3])\n",
    "    plt.ylim([-7.5, 7.5])\n",
    "    plt.grid(True)\n",
    "    \n",
    "    ## Espectro ##\n",
    "    \n",
    "    print('Índice de modulación: m = Em/Ec')\n",
    "    print('m=', m, ', m% = ', m*100)\n",
    "    \n",
    "    if m < 1:\n",
    "        print('Submodulada')\n",
    "    if m > 1:\n",
    "        print('Sobremodulada')\n",
    "\n",
    "    plt.subplot(322)\n",
    "    plt.stem([fm], [Em], 'b')\n",
    "    #plt.legend(['Señal modulante'])\n",
    "    plt.xlim([-1, 11])\n",
    "    plt.ylim([-1, 5.5])\n",
    "    plt.grid(True)\n",
    "    \n",
    "    plt.subplot(324)\n",
    "    plt.stem([fc], [Ec], 'g')\n",
    "    #plt.legend(['Señal portadora'])\n",
    "    plt.xlim([-1, 11])\n",
    "    plt.ylim([-1, 5.5])\n",
    "    plt.grid(True)\n",
    "    \n",
    "    plt.subplot(326)\n",
    "    plt.stem([fc-fm, fc, fc+fm], [m*Ec/2, Ec, m*Ec/2], 'r')\n",
    "    #plt.legend(['Señal modulada'])\n",
    "    plt.xlim([-1, 11])\n",
    "    plt.ylim([-1, 5.5])\n",
    "    plt.xlabel('Frecuencia en Hertz [Hz]', fontsize=12)\n",
    "    plt.grid(True)\n",
    "\n",
    "\n",
    "wEc = widgets.IntSlider(min=1,max=5,step=1,value=3, description='Ec [V]')\n",
    "wfc = widgets.IntSlider(min=2, max=10,step=1,value=8, description='fc [Hz]')\n",
    "\n",
    "interactive_plot = interactive(plot_AM, wEc=wEc, wfc=wfc)\n",
    "output = interactive_plot.children[-1]\n",
    "output.layout.height = '800px'\n",
    "interactive_plot"
   ]
  }
 ],
 "metadata": {
  "kernelspec": {
   "display_name": "Python 3",
   "language": "python",
   "name": "python3"
  },
  "language_info": {
   "codemirror_mode": {
    "name": "ipython",
    "version": 3
   },
   "file_extension": ".py",
   "mimetype": "text/x-python",
   "name": "python",
   "nbconvert_exporter": "python",
   "pygments_lexer": "ipython3",
   "version": "3.6.8"
  }
 },
 "nbformat": 4,
 "nbformat_minor": 2
}
